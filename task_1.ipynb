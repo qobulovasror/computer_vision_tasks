{
 "cells": [
  {
   "cell_type": "code",
   "execution_count": 2,
   "id": "0a7ade67-d437-4937-a4b2-2d63365dc067",
   "metadata": {},
   "outputs": [],
   "source": [
    "import random\n",
    "import numpy as np\n",
    "from PIL import Image, ImageDraw \n",
    "import math"
   ]
  },
  {
   "cell_type": "code",
   "execution_count": 3,
   "id": "522ec9bb-b11b-4b29-b57a-980ef5595331",
   "metadata": {},
   "outputs": [],
   "source": [
    "img = Image.open(\"img.tif\")\n",
    "img2 = Image.open(\"img.tif\") \n",
    "pix = img.load()\n",
    "pix1 = img2.load()\n",
    "\n",
    "width = img.size[0]\n",
    "height = img.size[1]"
   ]
  },
  {
   "cell_type": "code",
   "execution_count": 93,
   "id": "a562112b-360a-45c3-bd56-1186f4626f97",
   "metadata": {
    "scrolled": true
   },
   "outputs": [],
   "source": [
    "# for i in range(width):\n",
    "#     for j in range(height):\n",
    "#       pix1[i,j]=255-pix[i, j];\n",
    "# img2.show()\n",
    "# img.show()\n",
    "# print(\"Finish\")"
   ]
  },
  {
   "cell_type": "code",
   "execution_count": 4,
   "id": "8516a013-8c38-4b3e-822b-af504954c5c6",
   "metadata": {},
   "outputs": [
    {
     "name": "stdout",
     "output_type": "stream",
     "text": [
      "Finish\n"
     ]
    }
   ],
   "source": [
    "#kontrast\n",
    "c=50;\n",
    "\n",
    "for i in range(width):\n",
    "    for j in range(height):\n",
    "        T=c*math.log10(1+pix[i, j])\n",
    "        if(T<0):\n",
    "            pix1[i,j]=int(0)\n",
    "        elif(T>255):\n",
    "            pix1[i,j]=int(255)\n",
    "            \n",
    "        else:\n",
    "            pix1[i,j]=int(T)\n",
    "img2.show()\n",
    "# img.show()\n",
    "print(\"Finish\")"
   ]
  },
  {
   "cell_type": "code",
   "execution_count": 35,
   "id": "999f38b0-8567-4fb7-8d08-64048984e0bd",
   "metadata": {},
   "outputs": [],
   "source": [
    "#task3\n",
    "y, c = 0.20, 50\n",
    "# y, c = 80, 50\n",
    "# y, c = 0.28, 20\n",
    "y, c = 5.0, 1\n",
    "# qora uchun 1 dan katta\n",
    "# oqrtrish uchun 1 dan kichik\n",
    "\n",
    "for i in range(width):\n",
    "    for j in range(height):\n",
    "        T=c*(pix[i, j]**y)\n",
    "        if(T<0):\n",
    "            pix1[i,j]=int(0)\n",
    "        elif(T>255):\n",
    "            pix1[i,j]=int(255)\n",
    "            \n",
    "        else:\n",
    "            pix1[i,j]=int(T)\n",
    "img2.show()\n",
    "# img.show()\n",
    "# print(\"Finish\")"
   ]
  },
  {
   "cell_type": "markdown",
   "id": "5bc13475-2d1d-4f86-a503-b595411b616a",
   "metadata": {},
   "source": [
    "#  Другая иллюстрация степенного преобразования\n",
    "## Rasmni qiniqlashtrish"
   ]
  },
  {
   "cell_type": "code",
   "execution_count": 98,
   "id": "2f7b1932-bcd9-4b35-b45c-dd35c44f9582",
   "metadata": {},
   "outputs": [],
   "source": [
    "img = Image.open(\"img22.tif\")\n",
    "img2 = Image.open(\"img22.tif\") \n",
    "pix = img.load()\n",
    "pix1 = img2.load()\n",
    "width = img.size[0] \n",
    "height = img.size[1] "
   ]
  },
  {
   "cell_type": "code",
   "execution_count": 25,
   "id": "43f05301-23b7-47d3-938a-2827e65d169c",
   "metadata": {},
   "outputs": [],
   "source": [
    "#task4\n",
    "y, c = 5, 10\n",
    "for i in range(width):\n",
    "    for j in range(height):\n",
    "        # T=c*(pix[i, j]**y)\n",
    "        # T=c*(pix[i, j]**y)/(255**(y-1))\n",
    "        # T=c*math.log10(1+pix[i, j])\n",
    "        T=c*math.pow(pix[i, j],gamma)/math.pow(255,gamma-1)\n",
    "        if(T<0):\n",
    "            pix1[i,j]=int(0)\n",
    "        elif(T>255):\n",
    "            pix1[i,j]=int(255)\n",
    "        else:\n",
    "            pix1[i,j]=int(T)\n",
    "img2.show()\n",
    "# img.show()\n",
    "# print(\"Finish\")"
   ]
  },
  {
   "cell_type": "code",
   "execution_count": 21,
   "id": "ee62f277-24b8-4a59-8c81-15bf9fbc5286",
   "metadata": {},
   "outputs": [
    {
     "name": "stdout",
     "output_type": "stream",
     "text": [
      "<class 'int'>\n",
      "Tugadi\n"
     ]
    }
   ],
   "source": [
    "import random\n",
    "from PIL import Image, ImageDraw #Подключим необходимые библиотеки. \n",
    "import math\n",
    "\n",
    "c=1;\n",
    "gamma=5;\n",
    "\n",
    "#mode = int(input('mode:')) #Считываем номер преобразования. \n",
    "image = Image.open(\"img.tif\") #Открываем изображение. \n",
    "im = Image.open(\"img.tif\") #Открываем изображение. \n",
    "\n",
    "width = image.size[0] #Определяем ширину. \n",
    "height = image.size[1] #Определяем высоту.   \n",
    "\n",
    "pix = image.load() #Выгружаем значения пикселей.\n",
    "pix1 = im.load()\n",
    "print(type(pix1[1,1]))\n",
    "for i in range(width):\n",
    "    for j in range(height):\n",
    "        #T=c*math.log10(1+pix[i, j])\n",
    "        T=c*math.pow(pix[i, j],gamma)/math.pow(255,gamma-1)\n",
    "        if(T<0):\n",
    "            pix1[i,j]=int(0)\n",
    "            \n",
    "        elif(T>255):\n",
    "            pix1[i,j]=int(255)\n",
    "            #print(\"salom\")\n",
    "            \n",
    "        else:\n",
    "            pix1[i,j]=int(T)\n",
    "           \n",
    "      #pix1[i,j]=255-pix[i, j];\n",
    "      #draw.point((i, j), )\n",
    "#im = Image.fromarray(pix1, mode=\"L\")\n",
    "im.show()\n",
    "image.show()\n",
    "print(\"Tugadi\")"
   ]
  }
 ],
 "metadata": {
  "kernelspec": {
   "display_name": "Python 3 (ipykernel)",
   "language": "python",
   "name": "python3"
  },
  "language_info": {
   "codemirror_mode": {
    "name": "ipython",
    "version": 3
   },
   "file_extension": ".py",
   "mimetype": "text/x-python",
   "name": "python",
   "nbconvert_exporter": "python",
   "pygments_lexer": "ipython3",
   "version": "3.12.1"
  }
 },
 "nbformat": 4,
 "nbformat_minor": 5
}
