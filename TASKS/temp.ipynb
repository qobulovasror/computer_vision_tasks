{
 "cells": [
  {
   "cell_type": "code",
   "execution_count": 1,
   "id": "4613ad1d-8350-4167-8524-51013105ddfe",
   "metadata": {},
   "outputs": [],
   "source": [
    "import random\n",
    "import numpy as np\n",
    "from PIL import Image, ImageDraw \n",
    "import math"
   ]
  },
  {
   "cell_type": "code",
   "execution_count": 5,
   "id": "af470741-fa0c-49ac-a6cb-5ca34e8096f3",
   "metadata": {},
   "outputs": [],
   "source": [
    "img = Image.open(\"img3.tif\")\n",
    "\n",
    "width = img.size[0]\n",
    "height = img.size[1]\n",
    "\n",
    "img_new = Image.new(mode=\"L\", size=(width, height))\n",
    "\n",
    "img_pix_new = img_new.load()\n",
    " \n",
    "pix = img.load()\n",
    "\n",
    "for i in range(width):\n",
    "    for j in range(height):\n",
    "      img_pix_new[i,j]=255-pix[i, j];\n",
    "        \n",
    "img_new.show()\n",
    "img.show()\n",
    "\n",
    "img_new.save('result.jpg')"
   ]
  },
  {
   "cell_type": "code",
   "execution_count": null,
   "id": "ec092c0d-d9ff-465b-8920-bccff91025e1",
   "metadata": {},
   "outputs": [],
   "source": []
  }
 ],
 "metadata": {
  "kernelspec": {
   "display_name": "Python 3 (ipykernel)",
   "language": "python",
   "name": "python3"
  },
  "language_info": {
   "codemirror_mode": {
    "name": "ipython",
    "version": 3
   },
   "file_extension": ".py",
   "mimetype": "text/x-python",
   "name": "python",
   "nbconvert_exporter": "python",
   "pygments_lexer": "ipython3",
   "version": "3.12.1"
  }
 },
 "nbformat": 4,
 "nbformat_minor": 5
}
