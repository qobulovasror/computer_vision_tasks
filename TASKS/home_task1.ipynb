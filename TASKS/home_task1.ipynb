{
 "cells": [
  {
   "cell_type": "code",
   "execution_count": 2,
   "id": "7e9585d3-d83c-4fd6-964e-b61ee655207b",
   "metadata": {},
   "outputs": [],
   "source": [
    "#load libs\n",
    "import random\n",
    "import numpy as np\n",
    "from PIL import Image, ImageDraw \n",
    "import math\n",
    "import matplotlib.pyplot as plt"
   ]
  },
  {
   "cell_type": "markdown",
   "id": "be80c5de-19b4-4db4-b369-20585e92f6d2",
   "metadata": {},
   "source": [
    "## Rasmni burish - *Rotate*"
   ]
  },
  {
   "cell_type": "code",
   "execution_count": 3,
   "id": "37571d7f-b1e0-41c0-8828-738d84a1e263",
   "metadata": {},
   "outputs": [
    {
     "name": "stdin",
     "output_type": "stream",
     "text": [
      "Enter angile: 50\n"
     ]
    }
   ],
   "source": [
    "org_img = Image.open('img_for_rotate.jpg')\n",
    "\n",
    "o_w, o_h = org_img.size[0], org_img.size[1]\n",
    "w, h = o_w+100, o_h+100\n",
    "\n",
    "position =  (int(w/2-o_w/2), int(h/2-o_h/2))\n",
    "img = Image.new(\"RGB\", (w, h), (0, 0, 0))\n",
    "img.paste(org_img, position)\n",
    "\n",
    "angle = float(input(\"Enter angile:\"))\n",
    "img1 = img.rotate(angle)\n",
    "\n",
    "img1.show()"
   ]
  },
  {
   "cell_type": "markdown",
   "id": "98fc6c19-0cfc-49ac-ba8a-04afd420b0ff",
   "metadata": {},
   "source": [
    "## Masshtablash"
   ]
  },
  {
   "cell_type": "code",
   "execution_count": 33,
   "id": "e3995812-adec-4128-b507-2aa5afabec1a",
   "metadata": {},
   "outputs": [],
   "source": [
    "original = Image.open('img_for_rotate.jpg')\n",
    "original.show()\n",
    "width, height = original.size   # Get dimensions\n",
    "left = width/4\n",
    "top = height/4\n",
    "right = 3 * width/4\n",
    "bottom = 3 * height/4\n",
    "cropped_example = original.crop((left, top, right, bottom))\n",
    "cropped_example.show()\n",
    "\n",
    "# img = Image.open('img_for_rotate.jpg')\n",
    "# (width,height)=(img.width*9,img.height*9)\n",
    "# img_resize = img.resize((width,height))\n",
    "# plt.imshow(img_resize)"
   ]
  },
  {
   "cell_type": "markdown",
   "id": "a5ae20de-bbbb-446b-8eb0-9c627a0e9f32",
   "metadata": {},
   "source": [
    "## rotate translation scaling"
   ]
  },
  {
   "cell_type": "code",
   "execution_count": 24,
   "id": "ac41c0c9-ddf3-4e26-b068-02a16356892d",
   "metadata": {},
   "outputs": [],
   "source": [
    "import numpy as np\n",
    "\n",
    "def translation(x, y):\n",
    "    mat = np.eye(3)\n",
    "    mat[0, 2] = x\n",
    "    mat[1, 2] = y\n",
    "    return mat\n",
    "\n",
    "def scaling(s):\n",
    "    mat = np.eye(3)\n",
    "    mat[0, 0] = s\n",
    "    mat[1, 1] = s\n",
    "    return mat\n",
    "\n",
    "def rotation(degree):\n",
    "    mat = np.eye(3)\n",
    "    rad = np.deg2rad(degree)\n",
    "    mat[0, 0] = np.cos(rad)\n",
    "    mat[0, 1] = -np.sin(rad)\n",
    "    mat[1, 0] = np.sin(rad)\n",
    "    mat[1, 1] = np.cos(rad)\n",
    "    return mat\n",
    "\n",
    "def tmp_center(w, h):\n",
    "    mat = np.eye(3)\n",
    "    mat[0, 2] = -w/2\n",
    "    mat[1, 2] = -h/2\n",
    "    return mat"
   ]
  },
  {
   "cell_type": "code",
   "execution_count": 40,
   "id": "ed8f81d7-50c2-4c07-b659-8759c5117861",
   "metadata": {},
   "outputs": [],
   "source": [
    "img = Image.open('img_for_rotate.jpg')\n",
    "w, h = img.size\n",
    "T = translation(20, 23) @ tmp_center(-w, -h) @ rotation(5) @ scaling(0.69) @ tmp_center(w, h)\n",
    "coeff = np.linalg.inv(T).flatten()[:6]\n",
    "\n",
    "out = img.transform(img.size, Image.AFFINE, coeff, resample=Image.BILINEAR)\n",
    "out.show()"
   ]
  }
 ],
 "metadata": {
  "kernelspec": {
   "display_name": "Python 3 (ipykernel)",
   "language": "python",
   "name": "python3"
  },
  "language_info": {
   "codemirror_mode": {
    "name": "ipython",
    "version": 3
   },
   "file_extension": ".py",
   "mimetype": "text/x-python",
   "name": "python",
   "nbconvert_exporter": "python",
   "pygments_lexer": "ipython3",
   "version": "3.12.1"
  }
 },
 "nbformat": 4,
 "nbformat_minor": 5
}
